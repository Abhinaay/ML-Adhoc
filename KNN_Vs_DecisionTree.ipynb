{
  "nbformat": 4,
  "nbformat_minor": 0,
  "metadata": {
    "colab": {
      "name": "KNN Vs DecisionTree.ipynb",
      "version": "0.3.2",
      "provenance": [],
      "collapsed_sections": []
    },
    "kernelspec": {
      "name": "python3",
      "display_name": "Python 3"
    }
  },
  "cells": [
    {
      "cell_type": "code",
      "metadata": {
        "id": "DaW7sA3Bv5Lf",
        "colab_type": "code",
        "colab": {}
      },
      "source": [
        "# loading iris data\n",
        "from sklearn.datasets import load_iris\n"
      ],
      "execution_count": 0,
      "outputs": []
    },
    {
      "cell_type": "code",
      "metadata": {
        "id": "f1vA15jfw2dT",
        "colab_type": "code",
        "colab": {}
      },
      "source": [
        "iris_data=load_iris()"
      ],
      "execution_count": 0,
      "outputs": []
    },
    {
      "cell_type": "code",
      "metadata": {
        "id": "gNrXJd1Iw6Fb",
        "colab_type": "code",
        "outputId": "974fc749-753c-44b8-8788-61590b39050a",
        "colab": {
          "base_uri": "https://localhost:8080/",
          "height": 35
        }
      },
      "source": [
        "dir(iris_data\n",
        "   )"
      ],
      "execution_count": 66,
      "outputs": [
        {
          "output_type": "execute_result",
          "data": {
            "text/plain": [
              "['DESCR', 'data', 'feature_names', 'filename', 'target', 'target_names']"
            ]
          },
          "metadata": {
            "tags": []
          },
          "execution_count": 66
        }
      ]
    },
    {
      "cell_type": "code",
      "metadata": {
        "id": "mimcAjUEw8vk",
        "colab_type": "code",
        "colab": {}
      },
      "source": [
        "features=iris_data.data\n",
        "label=iris_data.target"
      ],
      "execution_count": 0,
      "outputs": []
    },
    {
      "cell_type": "code",
      "metadata": {
        "id": "PD4oHp2-xFwo",
        "colab_type": "code",
        "colab": {}
      },
      "source": [
        "# seperate data into training and testing\n",
        "from sklearn.model_selection import train_test_split\n"
      ],
      "execution_count": 0,
      "outputs": []
    },
    {
      "cell_type": "markdown",
      "metadata": {
        "id": "3cLe3cMXCvmK",
        "colab_type": "text"
      },
      "source": [
        "Train-Data = 70%"
      ]
    },
    {
      "cell_type": "code",
      "metadata": {
        "id": "GGYZzBGXxyS5",
        "colab_type": "code",
        "colab": {}
      },
      "source": [
        "train_data,test_data,train_label,test_label=train_test_split(features,label,test_size=.3)"
      ],
      "execution_count": 0,
      "outputs": []
    },
    {
      "cell_type": "code",
      "metadata": {
        "id": "Tr3k3tTCydiZ",
        "colab_type": "code",
        "colab": {}
      },
      "source": [
        "# import KNN classifier\n",
        "from sklearn.neighbors import KNeighborsClassifier"
      ],
      "execution_count": 0,
      "outputs": []
    },
    {
      "cell_type": "code",
      "metadata": {
        "id": "znICaWtVy-wo",
        "colab_type": "code",
        "colab": {}
      },
      "source": [
        "# KNN classifier with k=3\n",
        "kclf=KNeighborsClassifier(n_neighbors=3)"
      ],
      "execution_count": 0,
      "outputs": []
    },
    {
      "cell_type": "code",
      "metadata": {
        "id": "1LVe4SJ9KXqH",
        "colab_type": "code",
        "colab": {}
      },
      "source": [
        "# KNN classifier with k=5\n",
        "kclf2=KNeighborsClassifier(n_neighbors=5)"
      ],
      "execution_count": 0,
      "outputs": []
    },
    {
      "cell_type": "code",
      "metadata": {
        "id": "nUG7omhHKdfK",
        "colab_type": "code",
        "colab": {}
      },
      "source": [
        "# KNN classifier with k=7\n",
        "kclf3=KNeighborsClassifier(n_neighbors=7)"
      ],
      "execution_count": 0,
      "outputs": []
    },
    {
      "cell_type": "code",
      "metadata": {
        "id": "4OI2grFIzGBx",
        "colab_type": "code",
        "colab": {}
      },
      "source": [
        "# train data using KNN \n",
        "ktrained=kclf.fit(train_data,train_label)\n",
        "ktrained1b=kclf2.fit(train_data,train_label)\n",
        "ktrained1c=kclf3.fit(train_data,train_label)"
      ],
      "execution_count": 0,
      "outputs": []
    },
    {
      "cell_type": "code",
      "metadata": {
        "id": "bhIx7UXmzQ9-",
        "colab_type": "code",
        "colab": {}
      },
      "source": [
        "#Predict using KNN\n",
        "kprediction=ktrained.predict(test_data)\n",
        "kprediction1b=ktrained1b.predict(test_data)\n",
        "kprediction1c=ktrained1c.predict(test_data)"
      ],
      "execution_count": 0,
      "outputs": []
    },
    {
      "cell_type": "code",
      "metadata": {
        "id": "VUNNseEZzhcJ",
        "colab_type": "code",
        "colab": {}
      },
      "source": [
        "#to check accuracy\n",
        "from sklearn.metrics import accuracy_score"
      ],
      "execution_count": 0,
      "outputs": []
    },
    {
      "cell_type": "code",
      "metadata": {
        "id": "et7txVYFzrAa",
        "colab_type": "code",
        "colab": {}
      },
      "source": [
        "# Check Accuracy of KNN Prediction\n",
        "kacc=accuracy_score(kprediction,test_label)\n",
        "kacc1b=accuracy_score(kprediction1b,test_label)\n",
        "kacc1c=accuracy_score(kprediction1c,test_label)"
      ],
      "execution_count": 0,
      "outputs": []
    },
    {
      "cell_type": "code",
      "metadata": {
        "id": "aLzhAA51KTA1",
        "colab_type": "code",
        "colab": {}
      },
      "source": [
        ""
      ],
      "execution_count": 0,
      "outputs": []
    },
    {
      "cell_type": "code",
      "metadata": {
        "id": "xt_JdR5tz1ie",
        "colab_type": "code",
        "colab": {}
      },
      "source": [
        "#importing decision tree classifier\n",
        "from sklearn.tree import DecisionTreeClassifier"
      ],
      "execution_count": 0,
      "outputs": []
    },
    {
      "cell_type": "code",
      "metadata": {
        "id": "IFjFB7a10EH2",
        "colab_type": "code",
        "colab": {}
      },
      "source": [
        "dclf=DecisionTreeClassifier()"
      ],
      "execution_count": 0,
      "outputs": []
    },
    {
      "cell_type": "code",
      "metadata": {
        "id": "W8zSgAho0Lz5",
        "colab_type": "code",
        "colab": {}
      },
      "source": [
        "# Train using DTree\n",
        "dtrained=dclf.fit(train_data,train_label)"
      ],
      "execution_count": 0,
      "outputs": []
    },
    {
      "cell_type": "code",
      "metadata": {
        "id": "1J45R-nf0W_D",
        "colab_type": "code",
        "colab": {}
      },
      "source": [
        "# Predict using DTree\n",
        "dprediction=dtrained.predict(test_data)"
      ],
      "execution_count": 0,
      "outputs": []
    },
    {
      "cell_type": "code",
      "metadata": {
        "id": "RWzH-Ata0rwy",
        "colab_type": "code",
        "colab": {}
      },
      "source": [
        "# Check Accuracy of DTree Prediction\n",
        "dacc=accuracy_score(dprediction,test_label)"
      ],
      "execution_count": 0,
      "outputs": []
    },
    {
      "cell_type": "markdown",
      "metadata": {
        "id": "MCrci_XBCkch",
        "colab_type": "text"
      },
      "source": [
        "Train-Data = 80%"
      ]
    },
    {
      "cell_type": "code",
      "metadata": {
        "id": "I95Onotb77hR",
        "colab_type": "code",
        "colab": {}
      },
      "source": [
        "# Separate data with 80% train data\n",
        "train_data2,test_data2,train_label2,test_label2=train_test_split(features,label,test_size=.2)"
      ],
      "execution_count": 0,
      "outputs": []
    },
    {
      "cell_type": "code",
      "metadata": {
        "id": "9i5TlfKF8dJK",
        "colab_type": "code",
        "colab": {}
      },
      "source": [
        "# Train using KNN\n",
        "ktrained2=kclf.fit(train_data2,train_label2)\n",
        "ktrained2b=kclf2.fit(train_data2,train_label2)\n",
        "ktrained2c=kclf3.fit(train_data2,train_label2)"
      ],
      "execution_count": 0,
      "outputs": []
    },
    {
      "cell_type": "code",
      "metadata": {
        "id": "cfnMFHvN8sA1",
        "colab_type": "code",
        "colab": {}
      },
      "source": [
        "# Predict using Prediction\n",
        "kprediction2=ktrained2.predict(test_data2)\n",
        "kprediction2b=ktrained2b.predict(test_data2)\n",
        "kprediction2c=ktrained2c.predict(test_data2)"
      ],
      "execution_count": 0,
      "outputs": []
    },
    {
      "cell_type": "code",
      "metadata": {
        "id": "B9xDsNZ611Fr",
        "colab_type": "code",
        "colab": {}
      },
      "source": [
        "# Check Accuracy of KNN prediction\n",
        "kacc2=accuracy_score(kprediction2,test_label2)\n",
        "kacc2b=accuracy_score(kprediction2b,test_label2)\n",
        "kacc2c=accuracy_score(kprediction2c,test_label2)"
      ],
      "execution_count": 0,
      "outputs": []
    },
    {
      "cell_type": "code",
      "metadata": {
        "id": "-ddF0-y_9Ba_",
        "colab_type": "code",
        "colab": {}
      },
      "source": [
        "# Train data using DTree\n",
        "dtrained2=dclf.fit(train_data2,train_label2)"
      ],
      "execution_count": 0,
      "outputs": []
    },
    {
      "cell_type": "code",
      "metadata": {
        "id": "pnRFl3cIA6IU",
        "colab_type": "code",
        "colab": {}
      },
      "source": [
        "# Predict using DTree\n",
        "dprediction2=dtrained2.predict(test_data2)"
      ],
      "execution_count": 0,
      "outputs": []
    },
    {
      "cell_type": "code",
      "metadata": {
        "id": "fz0BtSUpBDvf",
        "colab_type": "code",
        "colab": {}
      },
      "source": [
        "# Check Accuracy of Dtree prediction\n",
        "dacc2=accuracy_score(dprediction2,test_label2)"
      ],
      "execution_count": 0,
      "outputs": []
    },
    {
      "cell_type": "markdown",
      "metadata": {
        "id": "KUXwExIlC2Df",
        "colab_type": "text"
      },
      "source": [
        "Train-Data = 90%"
      ]
    },
    {
      "cell_type": "code",
      "metadata": {
        "id": "ZZ-SobvFBOop",
        "colab_type": "code",
        "colab": {}
      },
      "source": [
        "# Seperate 90% data for training\n",
        "train_data3,test_data3,train_label3,test_label3=train_test_split(features,label,test_size=.1)"
      ],
      "execution_count": 0,
      "outputs": []
    },
    {
      "cell_type": "code",
      "metadata": {
        "id": "zPR35Li7BxcF",
        "colab_type": "code",
        "colab": {}
      },
      "source": [
        "# train data using KNN and predict and check accuracy\n",
        "ktrained3=kclf.fit(train_data3,train_label3)\n",
        "ktrained3b=kclf2.fit(train_data3,train_label3)\n",
        "ktrained3c=kclf3.fit(train_data3,train_label3)\n",
        "kprediction3=ktrained3.predict(test_data3)\n",
        "kprediction3b=ktrained3b.predict(test_data3)\n",
        "kprediction3c=ktrained3c.predict(test_data3)\n",
        "kacc3=accuracy_score(kprediction3,test_label3)\n",
        "kacc3b=accuracy_score(kprediction3b,test_label3)\n",
        "kacc3c=accuracy_score(kprediction3c,test_label3)"
      ],
      "execution_count": 0,
      "outputs": []
    },
    {
      "cell_type": "code",
      "metadata": {
        "id": "TrA6xGzcD1Iu",
        "colab_type": "code",
        "colab": {}
      },
      "source": [
        "# train data using DTree and predict and check accuracy\n",
        "dtrained3=dclf.fit(train_data3,train_label3)\n",
        "dprediction3=dtrained3.predict(test_data3)\n",
        "dacc3=accuracy_score(dprediction3,test_label3)"
      ],
      "execution_count": 0,
      "outputs": []
    },
    {
      "cell_type": "code",
      "metadata": {
        "id": "XCm7kQGNET4N",
        "colab_type": "code",
        "colab": {}
      },
      "source": [
        ""
      ],
      "execution_count": 0,
      "outputs": []
    },
    {
      "cell_type": "code",
      "metadata": {
        "id": "pxw63Eav0wqw",
        "colab_type": "code",
        "colab": {}
      },
      "source": [
        "# plotting graph\n",
        "import matplotlib.pyplot as plt"
      ],
      "execution_count": 0,
      "outputs": []
    },
    {
      "cell_type": "code",
      "metadata": {
        "id": "tD7ngwE504C5",
        "colab_type": "code",
        "outputId": "e8fd5774-da6d-415c-ce33-0d1e104ba71c",
        "colab": {
          "base_uri": "https://localhost:8080/",
          "height": 302
        }
      },
      "source": [
        "plt.ylim(0,1.7)\n",
        "\n",
        "plt.xlabel(\"Train_Data %age\")\n",
        "plt.ylabel(\"Accuracy\")\n",
        "x1=70\n",
        "x2=80\n",
        "x3=90\n",
        "yk1=kacc\n",
        "yk1b=kacc1b\n",
        "yk1c=kacc1c\n",
        "yd1=dacc\n",
        "yk2=kacc2\n",
        "yk2b=kacc2b\n",
        "yk2c=kacc2c\n",
        "yd2=dacc2\n",
        "yk3=kacc3\n",
        "yk3b=kacc3b\n",
        "yk3c=kacc3c\n",
        "yd3=dacc3\n",
        "width=.5\n",
        "plt.bar(x1-2*width,yk1,width,color=\"blue\",label=\"KNN with k=3\")\n",
        "plt.bar(x1-width/2-.1,yk1b,width,color=\"red\",label=\"KNN with k=5\")\n",
        "plt.bar(x1+width/2+.1,yk1c,width,color=\"green\",label=\"KNN with k=7\")\n",
        "plt.bar(x1+2*width,yd1,width,color=\"orange\",label=\"Decision_Tree\")\n",
        "plt.bar(x2-2*width,yk2,width,color=\"blue\")\n",
        "plt.bar(x2-width/2-.1,yk2b,width,color=\"red\")\n",
        "plt.bar(x2+width/2+.1,yk2c,width,color=\"green\")\n",
        "plt.bar(x2+2*width,yd2,width,color=\"orange\")\n",
        "plt.bar(x3-2*width,yk3,width,color=\"blue\")\n",
        "plt.bar(x3-width/2-.1,yk3b,width,color=\"red\")\n",
        "plt.bar(x3+width/2+.1,yk3c,width,color=\"green\")\n",
        "plt.bar(x3+2*width,yd3,width,color=\"orange\")\n",
        "\n",
        "plt.legend()\n"
      ],
      "execution_count": 94,
      "outputs": [
        {
          "output_type": "execute_result",
          "data": {
            "text/plain": [
              "<matplotlib.legend.Legend at 0x7f88e0ee2a90>"
            ]
          },
          "metadata": {
            "tags": []
          },
          "execution_count": 94
        },
        {
          "output_type": "display_data",
          "data": {
            "image/png": "[encoded data removed]",
            "text/plain": [
              "<Figure size 432x288 with 1 Axes>"
            ]
          },
          "metadata": {
            "tags": []
          }
        }
      ]
    },
    {
      "cell_type": "code",
      "metadata": {
        "id": "pZky2NFSEqWW",
        "colab_type": "code",
        "colab": {}
      },
      "source": [
        ""
      ],
      "execution_count": 0,
      "outputs": []
    }
  ]
}