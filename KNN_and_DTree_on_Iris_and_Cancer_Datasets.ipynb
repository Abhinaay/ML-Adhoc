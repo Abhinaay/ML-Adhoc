{
  "nbformat": 4,
  "nbformat_minor": 0,
  "metadata": {
    "colab": {
      "name": "KNN and DTree on Iris and Cancer Datasets.ipynb",
      "version": "0.3.2",
      "provenance": [],
      "collapsed_sections": []
    },
    "kernelspec": {
      "name": "python3",
      "display_name": "Python 3"
    }
  },
  "cells": [
    {
      "cell_type": "code",
      "metadata": {
        "id": "dF_AZCxQVKjL",
        "colab_type": "code",
        "colab": {}
      },
      "source": [
        "# import iris and cancer datasets\n",
        "from sklearn.datasets import load_iris,load_breast_cancer"
      ],
      "execution_count": 0,
      "outputs": []
    },
    {
      "cell_type": "code",
      "metadata": {
        "id": "ADaRWNolmTGV",
        "colab_type": "code",
        "colab": {}
      },
      "source": [
        "iris_data=load_iris()"
      ],
      "execution_count": 0,
      "outputs": []
    },
    {
      "cell_type": "code",
      "metadata": {
        "id": "8fGn_-nrmYxI",
        "colab_type": "code",
        "colab": {}
      },
      "source": [
        "cancer_data=load_breast_cancer()"
      ],
      "execution_count": 0,
      "outputs": []
    },
    {
      "cell_type": "code",
      "metadata": {
        "id": "oNpPsUK1me1b",
        "colab_type": "code",
        "outputId": "f9cd59b8-47ca-4459-95c7-58c0deafdac7",
        "colab": {
          "base_uri": "https://localhost:8080/",
          "height": 35
        }
      },
      "source": [
        "cancer_data.data.shape"
      ],
      "execution_count": 0,
      "outputs": [
        {
          "output_type": "execute_result",
          "data": {
            "text/plain": [
              "(569, 30)"
            ]
          },
          "metadata": {
            "tags": []
          },
          "execution_count": 5
        }
      ]
    },
    {
      "cell_type": "code",
      "metadata": {
        "id": "Tv_npvE-mhAQ",
        "colab_type": "code",
        "colab": {}
      },
      "source": [
        "# importing Classifiers\n",
        "from sklearn.tree import DecisionTreeClassifier\n",
        "from sklearn.neighbors import KNeighborsClassifier"
      ],
      "execution_count": 0,
      "outputs": []
    },
    {
      "cell_type": "code",
      "metadata": {
        "id": "SacyMXnFmmNE",
        "colab_type": "code",
        "colab": {}
      },
      "source": [
        "dclf1=DecisionTreeClassifier()\n",
        "kclf1=KNeighborsClassifier(n_neighbors=5)\n",
        "dclf2=DecisionTreeClassifier()\n",
        "kclf2=KNeighborsClassifier(n_neighbors=5)"
      ],
      "execution_count": 0,
      "outputs": []
    },
    {
      "cell_type": "code",
      "metadata": {
        "id": "9RTMm0dUn7pO",
        "colab_type": "code",
        "colab": {}
      },
      "source": [
        "# Seperating training and testing data\n",
        "from sklearn.model_selection import train_test_split"
      ],
      "execution_count": 0,
      "outputs": []
    },
    {
      "cell_type": "code",
      "metadata": {
        "id": "P_ZXzbbVoHNU",
        "colab_type": "code",
        "colab": {}
      },
      "source": [
        "# Seperating cancer data\n",
        "features_c=cancer_data.data\n",
        "label_c=cancer_data.target\n",
        "train_data_c,test_data_c,train_label_c,test_label_c=train_test_split(features_c,label_c,test_size=.3)\n",
        "# Training \n",
        "k_trained_cancer=kclf1.fit(train_data_c,train_label_c)\n",
        "d_trained_cancer=dclf1.fit(train_data_c,train_label_c)"
      ],
      "execution_count": 0,
      "outputs": []
    },
    {
      "cell_type": "code",
      "metadata": {
        "id": "6_YtbNGZvpnS",
        "colab_type": "code",
        "colab": {}
      },
      "source": [
        "# Seperating iris data\n",
        "features_i=iris_data.data\n",
        "label_i=iris_data.target\n",
        "train_data_i,test_data_i,train_label_i,test_label_i=train_test_split(features_i,label_i,test_size=.3)\n",
        "# Training\n",
        "k_trained_iris=kclf2.fit(train_data_i,train_label_i)\n",
        "d_trained_iris=dclf2.fit(train_data_i,train_label_i)"
      ],
      "execution_count": 0,
      "outputs": []
    },
    {
      "cell_type": "code",
      "metadata": {
        "id": "oS_ARpffqz5Q",
        "colab_type": "code",
        "colab": {}
      },
      "source": [
        "#Predicting iris\n",
        "k_iris_prediction=k_trained_iris.predict(test_data_i)\n",
        "d_iris_prediction=d_trained_iris.predict(test_data_i)"
      ],
      "execution_count": 0,
      "outputs": []
    },
    {
      "cell_type": "code",
      "metadata": {
        "id": "ikQpvoa_zJ20",
        "colab_type": "code",
        "colab": {}
      },
      "source": [
        "#Predicting cancer\n",
        "k_cancer_prediction=k_trained_cancer.predict(test_data_c)\n",
        "d_cancer_prediction=d_trained_cancer.predict(test_data_c)"
      ],
      "execution_count": 0,
      "outputs": []
    },
    {
      "cell_type": "code",
      "metadata": {
        "id": "qx3XezKE0hsq",
        "colab_type": "code",
        "colab": {}
      },
      "source": [
        "from sklearn.metrics import accuracy_score"
      ],
      "execution_count": 0,
      "outputs": []
    },
    {
      "cell_type": "code",
      "metadata": {
        "id": "nuEuSoi0IK1T",
        "colab_type": "code",
        "colab": {}
      },
      "source": [
        "# Accuracy using KNN\n",
        "k_acc_iris=accuracy_score(k_iris_prediction,test_label_i)\n",
        "k_acc_cancer=accuracy_score(k_cancer_prediction,test_label_c)"
      ],
      "execution_count": 0,
      "outputs": []
    },
    {
      "cell_type": "code",
      "metadata": {
        "id": "U6ksjANdJ5yJ",
        "colab_type": "code",
        "colab": {}
      },
      "source": [
        "# Accuracy using DTree\n",
        "d_acc_iris=accuracy_score(d_iris_prediction,test_label_i)\n",
        "d_acc_cancer=accuracy_score(d_cancer_prediction,test_label_c)"
      ],
      "execution_count": 0,
      "outputs": []
    },
    {
      "cell_type": "code",
      "metadata": {
        "id": "bg6G6IYmKiVE",
        "colab_type": "code",
        "colab": {}
      },
      "source": [
        "# Plotting Graph\n",
        "import matplotlib.pyplot as plt"
      ],
      "execution_count": 0,
      "outputs": []
    },
    {
      "cell_type": "code",
      "metadata": {
        "id": "azCUEEzUKlmC",
        "colab_type": "code",
        "outputId": "a0c4d0dd-99bb-4715-a376-b519cd51a21d",
        "colab": {
          "base_uri": "https://localhost:8080/",
          "height": 302
        }
      },
      "source": [
        "plt.xlabel('Classifier and Dataset')\n",
        "plt.ylabel('Accuracy')\n",
        "x=['KNN_Iris','KNN_Cancer','DTree_Iris','DTree_cancer']\n",
        "y=[k_acc_iris,k_acc_cancer,d_acc_iris,d_acc_cancer]\n",
        "plt.bar(x,y,.5,label=\"Trained Data = 70% and K = 5\")\n",
        "plt.ylim(0,1.5)\n",
        "plt.legend()"
      ],
      "execution_count": 0,
      "outputs": [
        {
          "output_type": "execute_result",
          "data": {
            "text/plain": [
              "<matplotlib.legend.Legend at 0x7f5a2a80f390>"
            ]
          },
          "metadata": {
            "tags": []
          },
          "execution_count": 26
        },
        {
          "output_type": "display_data",
          "data": {
            "image/png": "[encoded data removed]",
            "text/plain": [
              "<Figure size 432x288 with 1 Axes>"
            ]
          },
          "metadata": {
            "tags": []
          }
        }
      ]
    },
    {
      "cell_type": "code",
      "metadata": {
        "id": "0m4M4ywzLWnk",
        "colab_type": "code",
        "colab": {}
      },
      "source": [
        ""
      ],
      "execution_count": 0,
      "outputs": []
    }
  ]
}