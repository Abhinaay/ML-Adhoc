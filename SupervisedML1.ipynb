{
  "nbformat": 4,
  "nbformat_minor": 0,
  "metadata": {
    "colab": {
      "name": "SupervisedML1.ipynb",
      "version": "0.3.2",
      "provenance": []
    },
    "kernelspec": {
      "name": "python3",
      "display_name": "Python 3"
    }
  },
  "cells": [
    {
      "cell_type": "code",
      "metadata": {
        "id": "M4QqWIX2ZnjX",
        "colab_type": "code",
        "colab": {}
      },
      "source": [
        "# Import Pandas\n",
        "import pandas as pd\n"
      ],
      "execution_count": 0,
      "outputs": []
    },
    {
      "cell_type": "code",
      "metadata": {
        "id": "FgUIX-9RZuSW",
        "colab_type": "code",
        "colab": {}
      },
      "source": [
        "# read the data\n",
        "train=pd.read_csv('train.csv')\n",
        "test=pd.read_csv('test.csv')\n",
        "sub=pd.read_csv('gender_submission.csv')"
      ],
      "execution_count": 0,
      "outputs": []
    },
    {
      "cell_type": "code",
      "metadata": {
        "id": "Xp7Uom7JZ89i",
        "colab_type": "code",
        "colab": {}
      },
      "source": [
        "# Extract useful data\n",
        "features=train.iloc[:,[2,4,5]].values"
      ],
      "execution_count": 0,
      "outputs": []
    },
    {
      "cell_type": "code",
      "metadata": {
        "id": "K-QDI7oHaUdF",
        "colab_type": "code",
        "colab": {}
      },
      "source": [
        "answers=train.iloc[:,1].values"
      ],
      "execution_count": 0,
      "outputs": []
    },
    {
      "cell_type": "code",
      "metadata": {
        "id": "ubu90-06DQPP",
        "colab_type": "code",
        "colab": {}
      },
      "source": [
        "test_data=test.iloc[:,[1,3,4]].values"
      ],
      "execution_count": 0,
      "outputs": []
    },
    {
      "cell_type": "code",
      "metadata": {
        "id": "gnqJvXppFtCH",
        "colab_type": "code",
        "colab": {}
      },
      "source": [
        "test_ans=sub.iloc[:,1].values"
      ],
      "execution_count": 0,
      "outputs": []
    },
    {
      "cell_type": "code",
      "metadata": {
        "id": "WWn_HdH1cK6d",
        "colab_type": "code",
        "colab": {}
      },
      "source": [
        "# Autofill the missing entries\n",
        "from sklearn.preprocessing import Imputer"
      ],
      "execution_count": 0,
      "outputs": []
    },
    {
      "cell_type": "code",
      "metadata": {
        "id": "PIBaHUrDcfh4",
        "colab_type": "code",
        "outputId": "7cd1483a-d819-40bf-a73d-d0f53d660db9",
        "colab": {
          "base_uri": "https://localhost:8080/",
          "height": 110
        }
      },
      "source": [
        "imp=Imputer(missing_values=\"NaN\",axis=0,strategy=\"mean\")\n",
        "imp2=Imputer()"
      ],
      "execution_count": 170,
      "outputs": [
        {
          "output_type": "stream",
          "text": [
            "/usr/local/lib/python3.6/dist-packages/sklearn/utils/deprecation.py:66: DeprecationWarning: Class Imputer is deprecated; Imputer was deprecated in version 0.20 and will be removed in 0.22. Import impute.SimpleImputer from sklearn instead.\n",
            "  warnings.warn(msg, category=DeprecationWarning)\n",
            "/usr/local/lib/python3.6/dist-packages/sklearn/utils/deprecation.py:66: DeprecationWarning: Class Imputer is deprecated; Imputer was deprecated in version 0.20 and will be removed in 0.22. Import impute.SimpleImputer from sklearn instead.\n",
            "  warnings.warn(msg, category=DeprecationWarning)\n"
          ],
          "name": "stderr"
        }
      ]
    },
    {
      "cell_type": "code",
      "metadata": {
        "id": "0uX2mnmJc9H3",
        "colab_type": "code",
        "colab": {}
      },
      "source": [
        "impute=imp.fit(features[:,[2]])\n",
        "impute2=imp2.fit(test_data[:,[2]])"
      ],
      "execution_count": 0,
      "outputs": []
    },
    {
      "cell_type": "code",
      "metadata": {
        "id": "CWK0w-p8959N",
        "colab_type": "code",
        "colab": {}
      },
      "source": [
        "features[:,[2]]=impute.transform(features[:,[2]])\n",
        "test_data[:,[2]]=impute2.transform(test_data[:,[2]])"
      ],
      "execution_count": 0,
      "outputs": []
    },
    {
      "cell_type": "code",
      "metadata": {
        "id": "z_8q6c2IakE7",
        "colab_type": "code",
        "colab": {}
      },
      "source": [
        "# Convert String to numerical values\n",
        "from sklearn.preprocessing import LabelEncoder"
      ],
      "execution_count": 0,
      "outputs": []
    },
    {
      "cell_type": "code",
      "metadata": {
        "id": "KluCB7y8aziC",
        "colab_type": "code",
        "colab": {}
      },
      "source": [
        "le1=LabelEncoder()\n",
        "le2=LabelEncoder()"
      ],
      "execution_count": 0,
      "outputs": []
    },
    {
      "cell_type": "code",
      "metadata": {
        "id": "YV1n0yzlbFe3",
        "colab_type": "code",
        "colab": {}
      },
      "source": [
        "features[:,1]=le1.fit_transform(features[:,1])\n",
        "test_data[:,1]=le2.fit_transform(test_data[:,1])"
      ],
      "execution_count": 0,
      "outputs": []
    },
    {
      "cell_type": "code",
      "metadata": {
        "id": "PT45t1ieBcMM",
        "colab_type": "code",
        "colab": {}
      },
      "source": [
        "# Import the classifier\n",
        "from sklearn.tree import DecisionTreeClassifier"
      ],
      "execution_count": 0,
      "outputs": []
    },
    {
      "cell_type": "code",
      "metadata": {
        "id": "suZVFMHZC31V",
        "colab_type": "code",
        "colab": {}
      },
      "source": [
        "dclf=DecisionTreeClassifier()"
      ],
      "execution_count": 0,
      "outputs": []
    },
    {
      "cell_type": "code",
      "metadata": {
        "id": "DwvugyRgC6Kk",
        "colab_type": "code",
        "colab": {}
      },
      "source": [
        "# Train the classifier\n",
        "X=dclf.fit(features,answers)"
      ],
      "execution_count": 0,
      "outputs": []
    },
    {
      "cell_type": "code",
      "metadata": {
        "id": "vr7sOuAbDJT5",
        "colab_type": "code",
        "colab": {}
      },
      "source": [
        "# Predict Death count\n",
        "prediction=X.predict(test_data)"
      ],
      "execution_count": 0,
      "outputs": []
    },
    {
      "cell_type": "code",
      "metadata": {
        "id": "Qv-9fRUJDNFb",
        "colab_type": "code",
        "colab": {}
      },
      "source": [
        "# Check Accuracy\n",
        "from sklearn.metrics import accuracy_score"
      ],
      "execution_count": 0,
      "outputs": []
    },
    {
      "cell_type": "code",
      "metadata": {
        "id": "ZlLO8ksbFVys",
        "colab_type": "code",
        "colab": {
          "base_uri": "https://localhost:8080/",
          "height": 35
        },
        "outputId": "6fae8315-14d8-4205-f66f-e23e50598a46"
      },
      "source": [
        "accuracy_score(prediction,test_ans)"
      ],
      "execution_count": 181,
      "outputs": [
        {
          "output_type": "execute_result",
          "data": {
            "text/plain": [
              "0.8086124401913876"
            ]
          },
          "metadata": {
            "tags": []
          },
          "execution_count": 181
        }
      ]
    },
    {
      "cell_type": "code",
      "metadata": {
        "id": "R3rcl1GEF2HL",
        "colab_type": "code",
        "colab": {}
      },
      "source": [
        "death_count=0\n",
        "for i in prediction:\n",
        "  if i==1:\n",
        "    death_count=death_count+1"
      ],
      "execution_count": 0,
      "outputs": []
    },
    {
      "cell_type": "code",
      "metadata": {
        "id": "pI0CABSeIhpR",
        "colab_type": "code",
        "colab": {
          "base_uri": "https://localhost:8080/",
          "height": 54
        },
        "outputId": "3cda8b91-3893-4f68-e6d5-602e0754b50e"
      },
      "source": [
        "print(\"Total Passengers = \"+str(test_data.shape[0])+\"\\nMin Death Prediction = \"+str(death_count))"
      ],
      "execution_count": 183,
      "outputs": [
        {
          "output_type": "stream",
          "text": [
            "Total Passengers = 418\n",
            "Min Death Prediction = 130\n"
          ],
          "name": "stdout"
        }
      ]
    },
    {
      "cell_type": "code",
      "metadata": {
        "id": "ljViNjCQI1gF",
        "colab_type": "code",
        "colab": {}
      },
      "source": [
        ""
      ],
      "execution_count": 0,
      "outputs": []
    }
  ]
}