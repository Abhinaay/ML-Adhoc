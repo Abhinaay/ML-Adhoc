{
  "nbformat": 4,
  "nbformat_minor": 0,
  "metadata": {
    "colab": {
      "name": "KNN_Iris.ipynb",
      "version": "0.3.2",
      "provenance": [],
      "collapsed_sections": []
    },
    "kernelspec": {
      "name": "python3",
      "display_name": "Python 3"
    }
  },
  "cells": [
    {
      "cell_type": "code",
      "metadata": {
        "id": "B0ef0tcZc2f0",
        "colab_type": "code",
        "colab": {}
      },
      "source": [
        "# laoding iris data\n",
        "from sklearn.datasets import load_iris"
      ],
      "execution_count": 0,
      "outputs": []
    },
    {
      "cell_type": "code",
      "metadata": {
        "id": "tWkEvXjzgXb_",
        "colab_type": "code",
        "colab": {}
      },
      "source": [
        "# loading into a variable\n",
        "iris_data=load_iris()"
      ],
      "execution_count": 0,
      "outputs": []
    },
    {
      "cell_type": "code",
      "metadata": {
        "id": "G16In2l6genf",
        "colab_type": "code",
        "colab": {
          "base_uri": "https://localhost:8080/",
          "height": 35
        },
        "outputId": "14adb9d6-cc82-4658-b046-3e8ebc99059b"
      },
      "source": [
        "# describe iris data internally\n",
        "dir(iris_data)"
      ],
      "execution_count": 3,
      "outputs": [
        {
          "output_type": "execute_result",
          "data": {
            "text/plain": [
              "['DESCR', 'data', 'feature_names', 'filename', 'target', 'target_names']"
            ]
          },
          "metadata": {
            "tags": []
          },
          "execution_count": 3
        }
      ]
    },
    {
      "cell_type": "code",
      "metadata": {
        "id": "_AvSFPiDgkmi",
        "colab_type": "code",
        "colab": {
          "base_uri": "https://localhost:8080/",
          "height": 35
        },
        "outputId": "c39e234b-f899-4cd5-a4c9-64b791d99a26"
      },
      "source": [
        "# target output value \n",
        "iris_data.target_names"
      ],
      "execution_count": 4,
      "outputs": [
        {
          "output_type": "execute_result",
          "data": {
            "text/plain": [
              "array(['setosa', 'versicolor', 'virginica'], dtype='<U10')"
            ]
          },
          "metadata": {
            "tags": []
          },
          "execution_count": 4
        }
      ]
    },
    {
      "cell_type": "code",
      "metadata": {
        "id": "gVYKuyYkgsxr",
        "colab_type": "code",
        "colab": {
          "base_uri": "https://localhost:8080/",
          "height": 90
        },
        "outputId": "ac422ec3-0bf2-4f26-f53d-891de563b4a4"
      },
      "source": [
        "# attributes of features of iris_data\n",
        "iris_data.feature_names"
      ],
      "execution_count": 5,
      "outputs": [
        {
          "output_type": "execute_result",
          "data": {
            "text/plain": [
              "['sepal length (cm)',\n",
              " 'sepal width (cm)',\n",
              " 'petal length (cm)',\n",
              " 'petal width (cm)']"
            ]
          },
          "metadata": {
            "tags": []
          },
          "execution_count": 5
        }
      ]
    },
    {
      "cell_type": "code",
      "metadata": {
        "id": "91_yD1RDg4X3",
        "colab_type": "code",
        "colab": {}
      },
      "source": [
        "# Features/Data of iris_data\n",
        "iris_features=iris_data.data"
      ],
      "execution_count": 0,
      "outputs": []
    },
    {
      "cell_type": "code",
      "metadata": {
        "id": "sEl5TjuZg_e7",
        "colab_type": "code",
        "colab": {}
      },
      "source": [
        "# Extracting label/answer as per features\n",
        "label=iris_data.target"
      ],
      "execution_count": 0,
      "outputs": []
    },
    {
      "cell_type": "markdown",
      "metadata": {
        "id": "949N3qZ3hzkg",
        "colab_type": "text"
      },
      "source": [
        "# Showing **Graphs**"
      ]
    },
    {
      "cell_type": "code",
      "metadata": {
        "id": "HwmvRRwlhRtb",
        "colab_type": "code",
        "colab": {}
      },
      "source": [
        "# Put you code for graph\n"
      ],
      "execution_count": 0,
      "outputs": []
    },
    {
      "cell_type": "markdown",
      "metadata": {
        "id": "lxVlhI9zh_5A",
        "colab_type": "text"
      },
      "source": [
        "# **Processing**"
      ]
    },
    {
      "cell_type": "code",
      "metadata": {
        "id": "saxIVU_NhlP4",
        "colab_type": "code",
        "colab": {}
      },
      "source": [
        "# Sep data into training and testing\n",
        "from sklearn.model_selection import train_test_split"
      ],
      "execution_count": 0,
      "outputs": []
    },
    {
      "cell_type": "code",
      "metadata": {
        "id": "HawYqU9IiPVI",
        "colab_type": "code",
        "colab": {}
      },
      "source": [
        "train_data,test_data,train_label,test_label=train_test_split(iris_features,label,test_size=.15)"
      ],
      "execution_count": 0,
      "outputs": []
    },
    {
      "cell_type": "code",
      "metadata": {
        "id": "8_WhVvuGi-0n",
        "colab_type": "code",
        "colab": {}
      },
      "source": [
        "# importing KNN Classifier\n",
        "from sklearn.neighbors import KNeighborsClassifier "
      ],
      "execution_count": 0,
      "outputs": []
    },
    {
      "cell_type": "code",
      "metadata": {
        "id": "cmricHQDkR3H",
        "colab_type": "code",
        "colab": {}
      },
      "source": [
        "# Now calling KNN classifier\n",
        "kclf=KNeighborsClassifier(n_neighbors=5)     # this is by default value of K"
      ],
      "execution_count": 0,
      "outputs": []
    },
    {
      "cell_type": "code",
      "metadata": {
        "id": "zOOdSGH-k1b-",
        "colab_type": "code",
        "colab": {}
      },
      "source": [
        "# train data\n",
        "ktrained=kclf.fit(train_data,train_label)"
      ],
      "execution_count": 0,
      "outputs": []
    },
    {
      "cell_type": "code",
      "metadata": {
        "id": "0EvWtu3FlMXX",
        "colab_type": "code",
        "colab": {}
      },
      "source": [
        "# Predict \n",
        "predict_output=ktrained.predict(test_data\n",
        "                              )"
      ],
      "execution_count": 0,
      "outputs": []
    },
    {
      "cell_type": "code",
      "metadata": {
        "id": "HZJAXlTBlcmk",
        "colab_type": "code",
        "colab": {
          "base_uri": "https://localhost:8080/",
          "height": 54
        },
        "outputId": "94147f13-4485-4b90-bf97-b5e6b0e863d2"
      },
      "source": [
        "predict_output"
      ],
      "execution_count": 29,
      "outputs": [
        {
          "output_type": "execute_result",
          "data": {
            "text/plain": [
              "array([0, 1, 1, 1, 1, 1, 2, 2, 0, 0, 2, 2, 0, 1, 1, 1, 2, 1, 2, 0, 0, 1,\n",
              "       0])"
            ]
          },
          "metadata": {
            "tags": []
          },
          "execution_count": 29
        }
      ]
    },
    {
      "cell_type": "code",
      "metadata": {
        "id": "AjAVPmhklkJN",
        "colab_type": "code",
        "colab": {
          "base_uri": "https://localhost:8080/",
          "height": 54
        },
        "outputId": "e1485047-ccde-43e3-f9ee-d3b40a58e612"
      },
      "source": [
        "test_label"
      ],
      "execution_count": 30,
      "outputs": [
        {
          "output_type": "execute_result",
          "data": {
            "text/plain": [
              "array([0, 1, 1, 1, 1, 1, 2, 2, 0, 0, 2, 2, 0, 1, 1, 1, 2, 1, 2, 0, 0, 1,\n",
              "       0])"
            ]
          },
          "metadata": {
            "tags": []
          },
          "execution_count": 30
        }
      ]
    },
    {
      "cell_type": "code",
      "metadata": {
        "id": "tzOvZHKylmPF",
        "colab_type": "code",
        "colab": {}
      },
      "source": [
        "# calculating accuracy score\n",
        "from sklearn.metrics import accuracy_score"
      ],
      "execution_count": 0,
      "outputs": []
    },
    {
      "cell_type": "code",
      "metadata": {
        "id": "_XBcoWhLluy0",
        "colab_type": "code",
        "colab": {
          "base_uri": "https://localhost:8080/",
          "height": 35
        },
        "outputId": "5b73753e-8b18-47bf-ecfb-3a1995da8f92"
      },
      "source": [
        "accuracy_score(test_label,predict_output)"
      ],
      "execution_count": 32,
      "outputs": [
        {
          "output_type": "execute_result",
          "data": {
            "text/plain": [
              "1.0"
            ]
          },
          "metadata": {
            "tags": []
          },
          "execution_count": 32
        }
      ]
    },
    {
      "cell_type": "code",
      "metadata": {
        "id": "SonvmnHhlzcM",
        "colab_type": "code",
        "colab": {}
      },
      "source": [
        "# Calling Decision tree classifier\n",
        "from sklearn.tree import DecisionTreeClassifier\n"
      ],
      "execution_count": 0,
      "outputs": []
    },
    {
      "cell_type": "code",
      "metadata": {
        "id": "Z6SbVE0imRma",
        "colab_type": "code",
        "colab": {}
      },
      "source": [
        "dclf=DecisionTreeClassifier()"
      ],
      "execution_count": 0,
      "outputs": []
    },
    {
      "cell_type": "code",
      "metadata": {
        "id": "KJDZF3BvmT-9",
        "colab_type": "code",
        "colab": {}
      },
      "source": [
        "# Train data\n",
        "dtrained=dclf.fit(train_data,train_label)"
      ],
      "execution_count": 0,
      "outputs": []
    },
    {
      "cell_type": "code",
      "metadata": {
        "id": "t4TkqZE4me_4",
        "colab_type": "code",
        "colab": {}
      },
      "source": [
        "# predict\n",
        "dpredict=dtrained.predict(test_data)"
      ],
      "execution_count": 0,
      "outputs": []
    },
    {
      "cell_type": "code",
      "metadata": {
        "id": "a9mIAA2QmnNm",
        "colab_type": "code",
        "colab": {
          "base_uri": "https://localhost:8080/",
          "height": 35
        },
        "outputId": "255437dc-c5fa-4f1b-e455-467a3a2f127b"
      },
      "source": [
        "accuracy_score(test_label,dpredict)"
      ],
      "execution_count": 37,
      "outputs": [
        {
          "output_type": "execute_result",
          "data": {
            "text/plain": [
              "0.9130434782608695"
            ]
          },
          "metadata": {
            "tags": []
          },
          "execution_count": 37
        }
      ]
    },
    {
      "cell_type": "code",
      "metadata": {
        "id": "O_z3BYb8mspl",
        "colab_type": "code",
        "colab": {}
      },
      "source": [
        "# Compare DecisionTree and KNN\n",
        "import matplotlib.pyplot as plt"
      ],
      "execution_count": 0,
      "outputs": []
    },
    {
      "cell_type": "code",
      "metadata": {
        "id": "QdI6zAXTnIlf",
        "colab_type": "code",
        "colab": {}
      },
      "source": [
        ""
      ],
      "execution_count": 0,
      "outputs": []
    }
  ]
}